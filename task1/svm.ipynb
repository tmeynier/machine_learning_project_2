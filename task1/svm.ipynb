{
 "cells": [
  {
   "cell_type": "code",
   "execution_count": 1,
   "metadata": {},
   "outputs": [
    {
     "name": "stderr",
     "output_type": "stream",
     "text": [
      "Using TensorFlow backend.\n"
     ]
    }
   ],
   "source": [
    "import pandas as pd\n",
    "import numpy as np\n",
    "import matplotlib.pyplot as plt\n",
    "from scipy import stats\n",
    "from sklearn.model_selection import train_test_split\n",
    "from scipy.signal import find_peaks\n",
    "from sklearn.ensemble import IsolationForest, RandomForestRegressor\n",
    "from sklearn.model_selection import GridSearchCV\n",
    "from sklearn.feature_selection import SelectFromModel, VarianceThreshold, SelectKBest, chi2, f_classif\n",
    "from sklearn.preprocessing import StandardScaler\n",
    "from sklearn.svm import SVR\n",
    "from imblearn.pipeline import Pipeline\n",
    "from sklearn.multiclass import OneVsRestClassifier\n",
    "from sklearn import svm\n",
    "from sklearn.svm import LinearSVC\n",
    "from sklearn.metrics import f1_score, balanced_accuracy_score\n",
    "from sklearn.metrics import accuracy_score\n",
    "from sklearn.metrics import precision_score\n",
    "from sklearn.metrics import recall_score\n",
    "from sklearn.metrics import roc_auc_score\n",
    "from scipy import stats"
   ]
  },
  {
   "cell_type": "code",
   "execution_count": 2,
   "metadata": {},
   "outputs": [],
   "source": [
    "def support_vector_machine(x_train_filename, x_test_filename, y_train_filename, y_test_filename):\n",
    "\n",
    "    # Load dataset\n",
    "    df_X_train = pd.read_csv(x_train_filename, header=None)\n",
    "    df_Y_train = pd.read_csv(y_train_filename, header=None)\n",
    "\n",
    "    df_X_test = pd.read_csv(x_test_filename, header=None)\n",
    "    df_Y_test = pd.read_csv(y_test_filename, header=None)\n",
    "\n",
    "    X_train = np.array(df_X_train.values)\n",
    "    Y_train = np.array(df_Y_train.values)\n",
    "\n",
    "    X_test = np.array(df_X_test.values)\n",
    "    Y_test = np.array(df_Y_test.values)\n",
    "    \n",
    "    def basic_pipeline(X, y, X_test):\n",
    "        \n",
    "        line = Pipeline([\n",
    "            ('var', VarianceThreshold()),\n",
    "            ('scale', StandardScaler()),\n",
    "            ('clas', svm.SVC(decision_function_shape='ovr',class_weight='balanced'))\n",
    "        ])\n",
    "\n",
    "\n",
    "        parameters = {\"clas__C\": [1, 2, 4, 8, 16],\n",
    "                      \"clas__gamma\": [0.01, 0.1, 1]\n",
    "                     }\n",
    "        grid = GridSearchCV(line, parameters, scoring='balanced_accuracy', cv=5, n_jobs=-1, verbose=1)\n",
    "        grid.fit(X, y)\n",
    "        \n",
    "        return grid, grid.predict(X_test)\n",
    "    \n",
    "    grid_small, y_hat = basic_pipeline(X_train, Y_train, X_test)\n",
    "    \n",
    "    # accuracy: (tp + tn) / (p + n)\n",
    "    accuracy = accuracy_score(Y_test, y_hat)\n",
    "    accuracy_str = 'Accuracy: %f' % accuracy \n",
    "    print(accuracy_str)\n",
    "    # precision tp / (tp + fp)\n",
    "    precision = precision_score(Y_test, y_hat, labels=range(5), average='weighted')\n",
    "    precision_str = 'Precision: %f' % precision \n",
    "    print(precision_str)\n",
    "    # recall: tp / (tp + fn)\n",
    "    recall = recall_score(Y_test, y_hat, labels=range(5), average='weighted')\n",
    "    recall_str = 'Recall: %f' % recall\n",
    "    print(recall_str)\n",
    "    # f1: 2 tp / (2 tp + fp + fn)\n",
    "    f1 = f1_score(Y_test, y_hat, labels=range(5), average='weighted')\n",
    "    f1_str = 'F1 score: %f' % f1 \n",
    "    print(f1_str)\n",
    "    # Calculate roc auc\n",
    "    roc = roc_auc_score(Y_test, y_hat)\n",
    "    roc_str = 'ROC: %f' % roc\n",
    "    print(roc_str)\n",
    "    #Confusion matrix\n",
    "    cm = confusion_matrix(Y_test, y_hat)\n",
    "    print(cm)\n",
    "    \n",
    "    # Write output results in file\n",
    "    out = open(\"output_svm.txt\",\"w\") \n",
    "    out.write(\"Result metrics:\" + \"\\n\")\n",
    "    out.write(accuracy_str + \"\\n\")\n",
    "    out.write(precision_str + \"\\n\")\n",
    "    out.write(recall_str + \"\\n\")\n",
    "    out.write(f1_str + \"\\n\")\n",
    "    out.close()         "
   ]
  }
 ],
 "metadata": {
  "kernelspec": {
   "display_name": "Python 3",
   "language": "python",
   "name": "python3"
  },
  "language_info": {
   "codemirror_mode": {
    "name": "ipython",
    "version": 3
   },
   "file_extension": ".py",
   "mimetype": "text/x-python",
   "name": "python",
   "nbconvert_exporter": "python",
   "pygments_lexer": "ipython3",
   "version": "3.7.4"
  }
 },
 "nbformat": 4,
 "nbformat_minor": 2
}
