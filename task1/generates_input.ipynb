{
 "cells": [
  {
   "cell_type": "code",
   "execution_count": 1,
   "metadata": {},
   "outputs": [],
   "source": [
    "import pandas as pd"
   ]
  },
  {
   "cell_type": "code",
   "execution_count": 2,
   "metadata": {},
   "outputs": [],
   "source": [
    "def generates_input(path_NLP_train, path_NLP_test, name_x_train , name_y_train, name_x_test, name_y_test):\n",
    "    \n",
    "    df_train = pd.read_csv(\"../../input/10k_diabetes/diab_train.csv\")\n",
    "    df_test = pd.read_csv(\"../../input/10k_diabetes/diab_test.csv\")\n",
    "    size_train = len(df_train)\n",
    "    size_test = len(df_test)\n",
    "    \n",
    "    df = pd.concat([df_train, df_test] , axis = 0)\n",
    "    \n",
    "    #We only take the object types that are not part of the NLP\n",
    "    categorical = df.select_dtypes(include='object').columns.tolist()\n",
    "\n",
    "    removed_elem = [\"diag_1_desc\" , \"diag_2_desc\" , \"diag_3_desc\"]\n",
    "    for elem in removed_elem: \n",
    "        categorical.remove(elem)\n",
    "    #print(categorical)\n",
    "    \n",
    "    #Change object types to categoricals\n",
    "    for name in categorical :\n",
    "        df[name] = df[name].astype('category')\n",
    "        temp = df.dropna(subset=[name])\n",
    "        #print(temp[name].unique())\n",
    "    cat_columns = df.select_dtypes(['category']).columns\n",
    "    df[cat_columns] = df[cat_columns].apply(lambda x : x.cat.codes)\n",
    "    \n",
    "    nlp_train = pd.read_csv(path_NLP_train , header = None)\n",
    "    nlp_test = pd.read_csv(path_NLP_test , header = None)\n",
    "    \n",
    "    train = df.head(size_train)\n",
    "    test = df.tail(size_test)\n",
    "    \n",
    "    #Removal of column that are not part of this preprocessing and column readmitted which is the one we want to predict\n",
    "    Y_train = train.loc[:,train.columns == \"readmitted\"]\n",
    "    Y_test = test.loc[: , test.columns == \"readmitted\"]\n",
    "\n",
    "\n",
    "    remove = [\"readmitted\" , \"diag_1_desc\" , \"diag_2_desc\" , \"diag_3_desc\"]\n",
    "    train_classic = train.drop(remove , axis = 1)\n",
    "    test_classic = test.drop(remove, axis=1)\n",
    "\n",
    "    X_train = train_classic.join(nlp_train)\n",
    "\n",
    "    X_test = test_classic.join(nlp_test)\n",
    "\n",
    "    X_train.to_csv(name_x_train, index = False, header=None)\n",
    "    Y_train.to_csv(name_y_train, index = False, header=None)\n",
    "\n",
    "    X_test.to_csv(name_x_test, index = False, header=None)\n",
    "    Y_test.to_csv(name_y_test, index = False, header=None)\n",
    "    "
   ]
  },
  {
   "cell_type": "markdown",
   "metadata": {},
   "source": [
    "This is an example of how to use the function generates_input : "
   ]
  },
  {
   "cell_type": "code",
   "execution_count": 5,
   "metadata": {},
   "outputs": [],
   "source": [
    "#generates_input(\"nlp_occurence_train.csv\" , \"nlp_occurence_test.csv\" , \"x_train.csv\", \"y_train.csv\", \"x_test.csv\", \"y_test.csv\")\n",
    "\n"
   ]
  },
  {
   "cell_type": "code",
   "execution_count": 4,
   "metadata": {},
   "outputs": [],
   "source": [
    "#df_train = pd.read_csv(\"x_train.csv\")\n",
    "#df_test = pd.read_csv(\"x_test.csv\")\n",
    "#df_train\n"
   ]
  },
  {
   "cell_type": "code",
   "execution_count": null,
   "metadata": {},
   "outputs": [],
   "source": []
  },
  {
   "cell_type": "code",
   "execution_count": 5,
   "metadata": {},
   "outputs": [],
   "source": [
    "#df_train = pd.read_csv(\"../input/10k_diabetes/diab_train.csv\")\n",
    "#df_test = pd.read_csv(\"../input/10k_diabetes/diab_test.csv\")"
   ]
  },
  {
   "cell_type": "code",
   "execution_count": 6,
   "metadata": {},
   "outputs": [],
   "source": [
    "#size_train = len(df_train)\n",
    "#size_test = len(df_test)\n",
    "#print(size_train, size_test)\n",
    "#df = pd.concat([df_train, df_test], axis =0)"
   ]
  },
  {
   "cell_type": "code",
   "execution_count": 7,
   "metadata": {},
   "outputs": [],
   "source": [
    "#categorical = df.select_dtypes(include='object').columns.tolist()\n",
    "\n",
    "#removed_elem = [\"diag_1_desc\" , \"diag_2_desc\" , \"diag_3_desc\"]\n",
    "#for elem in removed_elem: \n",
    "#    categorical.remove(elem)\n",
    "#print(categorical)"
   ]
  },
  {
   "cell_type": "code",
   "execution_count": 8,
   "metadata": {},
   "outputs": [],
   "source": [
    "#for name in categorical :\n",
    "#    df[name] = df[name].astype('category')\n",
    "#    temp = df.dropna(subset=[name])\n",
    "#    #print(temp[name].unique())\n",
    "#cat_columns = df.select_dtypes(['category']).columns\n",
    "#df[cat_columns] = df[cat_columns].apply(lambda x : x.cat.codes)\n",
    "#df"
   ]
  },
  {
   "cell_type": "code",
   "execution_count": 9,
   "metadata": {},
   "outputs": [],
   "source": [
    "#nlp_test = pd.read_csv(\"nlp_test.csv\" , header = None)\n",
    "#nlp_train = pd.read_csv(\"nlp_train.csv\" , header = None)\n",
    "\n",
    "#nlp_test = pd.read_csv(\"nlp_occurence_test.csv\" , header = None)\n",
    "#nlp_train = pd.read_csv(\"nlp_occurence_train.csv\" , header = None)\n",
    "\n",
    "#print(nlp_train.shape)\n",
    "#print(nlp_test.shape)\n",
    "#nlp_train"
   ]
  },
  {
   "cell_type": "code",
   "execution_count": 10,
   "metadata": {},
   "outputs": [],
   "source": [
    "#train = df.head(size_train)\n",
    "#test = df.tail(size_test)\n",
    "\n",
    "#print(train.shape)\n",
    "#print(test.shape)"
   ]
  },
  {
   "cell_type": "code",
   "execution_count": 11,
   "metadata": {},
   "outputs": [],
   "source": [
    "#Y_train = train.loc[:,train.columns == \"readmitted\"]\n",
    "#Y_test = test.loc[: , test.columns == \"readmitted\"]\n",
    "\n",
    "\n",
    "#remove = [\"readmitted\" , \"diag_1_desc\" , \"diag_2_desc\" , \"diag_3_desc\"]\n",
    "#train_classic = train.drop(remove , axis = 1)\n",
    "#test_classic = test.drop(remove, axis=1)\n",
    "\n",
    "#X_train = train_classic.join(nlp_train)\n",
    "\n",
    "#X_test = test_classic.join(nlp_test)\n",
    "\n"
   ]
  },
  {
   "cell_type": "code",
   "execution_count": 12,
   "metadata": {},
   "outputs": [],
   "source": [
    "#print(X_test.shape)"
   ]
  },
  {
   "cell_type": "code",
   "execution_count": 13,
   "metadata": {},
   "outputs": [],
   "source": [
    "#X_train.to_csv(r'./x_train.csv', index = False, header=None)\n",
    "#Y_train.to_csv(r'./y_train.csv', index = False, header=None)\n",
    "\n",
    "#X_test.to_csv(r'./x_test.csv', index = False, header=None)\n",
    "#Y_test.to_csv(r'./y_test.csv', index = False, header=None)"
   ]
  },
  {
   "cell_type": "code",
   "execution_count": null,
   "metadata": {},
   "outputs": [],
   "source": []
  },
  {
   "cell_type": "code",
   "execution_count": 14,
   "metadata": {},
   "outputs": [],
   "source": [
    "#train_classic.to_csv('./x_train_without_NLP.csv',  index = False, header=None)\n",
    "#test_classic.to_csv('./x_test_without_NLP.csv',  index = False, header=None)"
   ]
  },
  {
   "cell_type": "code",
   "execution_count": null,
   "metadata": {},
   "outputs": [],
   "source": []
  }
 ],
 "metadata": {
  "kernelspec": {
   "display_name": "Python 3",
   "language": "python",
   "name": "python3"
  },
  "language_info": {
   "codemirror_mode": {
    "name": "ipython",
    "version": 3
   },
   "file_extension": ".py",
   "mimetype": "text/x-python",
   "name": "python",
   "nbconvert_exporter": "python",
   "pygments_lexer": "ipython3",
   "version": "3.7.1"
  }
 },
 "nbformat": 4,
 "nbformat_minor": 2
}
