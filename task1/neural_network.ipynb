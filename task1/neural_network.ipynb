{
 "cells": [
  {
   "cell_type": "code",
   "execution_count": 41,
   "metadata": {},
   "outputs": [],
   "source": [
    "import pandas as pd\n",
    "import numpy as np\n",
    "\n",
    "from keras import optimizers, losses, activations, models\n",
    "from keras.callbacks import ModelCheckpoint, EarlyStopping, LearningRateScheduler, ReduceLROnPlateau\n",
    "from keras.layers import Dense, Input, Dropout, Convolution1D, MaxPool1D, GlobalMaxPool1D, GlobalAveragePooling1D, \\\n",
    "    concatenate\n",
    "#from sklearn.metrics import f1_score, accuracy_score\n",
    "from sklearn.metrics import accuracy_score, f1_score, roc_auc_score, average_precision_score"
   ]
  },
  {
   "cell_type": "code",
   "execution_count": 44,
   "metadata": {},
   "outputs": [],
   "source": [
    "def neural_net(x_train_filename, x_test_filename, y_train_filename, y_test_filename):\n",
    "    df_X_train = pd.read_csv(x_train_filename, header=None)\n",
    "    df_Y_train = pd.read_csv(y_train_filename, header=None)\n",
    "\n",
    "    df_X_test = pd.read_csv(x_test_filename, header=None)\n",
    "    df_Y_test = pd.read_csv(y_test_filename, header=None)\n",
    "\n",
    "    x_train = np.array(df_X_train.values)\n",
    "    y_train = np.array(df_Y_train.values)\n",
    "\n",
    "    x_test = np.array(df_X_test.values)\n",
    "    y_test = np.array(df_Y_test.values)\n",
    "    \n",
    "    def get_model():\n",
    "        nclass = 1\n",
    "        inp = Input(shape=(x_train.shape[1],))\n",
    "\n",
    "        dense_1 = Dense(50, activation = activations.relu  , name=\"dense_1\")(inp)\n",
    "        #dense_1 = Dense(100, activation = activations.relu  , name=\"dense_2\")(dense_1)\n",
    "        dense_1 = Dense(nclass, activation=activations.sigmoid, name=\"dense_3\")(dense_1)\n",
    "\n",
    "        model = models.Model(inputs = inp , outputs = dense_1)\n",
    "        opt = optimizers.Adam(0.001)\n",
    "\n",
    "        model.compile(optimizer=opt, loss=losses.binary_crossentropy, metrics=['acc'])\n",
    "        model.summary()\n",
    "        return model\n",
    "    \n",
    "    model = get_model()\n",
    "    \n",
    "    file_path = \"neural_net.h5\"\n",
    "    checkpoint = ModelCheckpoint(file_path , monitor = 'val_acc', verbose=1, save_best_only=True, mode = 'max')\n",
    "    early = EarlyStopping(monitor=\"val_acc\", mode=\"max\", patience=5, verbose=1)\n",
    "    redonplat = ReduceLROnPlateau(monitor=\"val_acc\", mode = \"max\", patience = 3, verbose =2)\n",
    "    callbacks_list = [checkpoint, early, redonplat]\n",
    "    \n",
    "    #Fitting part\n",
    "    model.fit(x_train, y_train, epochs = 1000 , verbose=2, callbacks=callbacks_list, validation_split=0.1)\n",
    "    model.load_weights(file_path)\n",
    "\n",
    "    #Testing part \n",
    "    pred_test = model.predict(x_test)\n",
    "    pred_test = (pred_test>0.5).astype(np.int8)\n",
    "\n",
    "    f1 = f1_score(y_test, pred_test)\n",
    "\n",
    "    print(\"Test f1 score : %s \"% f1)\n",
    "\n",
    "    #acc = accuracy_score(y_test, pred_test)\n",
    "\n",
    "    #print(\"Test accuracy score : %s \"% acc)\n",
    "\n",
    "    roc = roc_auc_score(y_test, pred_test)\n",
    "\n",
    "    print(\"Test roc score : %s \"% roc)\n",
    "\n",
    "    #auprc = average_precision_score(y_test, pred_test)\n",
    "\n",
    "    #print(\"Test auprc score : %s \"% auprc)"
   ]
  },
  {
   "cell_type": "markdown",
   "metadata": {},
   "source": [
    "This is an example of how to use the function neural_net(x_train_filename, x_test_filename, y_train_filename, y_test_filename)"
   ]
  },
  {
   "cell_type": "code",
   "execution_count": 45,
   "metadata": {},
   "outputs": [
    {
     "name": "stdout",
     "output_type": "stream",
     "text": [
      "Model: \"model_17\"\n",
      "_________________________________________________________________\n",
      "Layer (type)                 Output Shape              Param #   \n",
      "=================================================================\n",
      "input_17 (InputLayer)        (None, 185)               0         \n",
      "_________________________________________________________________\n",
      "dense_1 (Dense)              (None, 50)                9300      \n",
      "_________________________________________________________________\n",
      "dense_3 (Dense)              (None, 1)                 51        \n",
      "=================================================================\n",
      "Total params: 9,351\n",
      "Trainable params: 9,351\n",
      "Non-trainable params: 0\n",
      "_________________________________________________________________\n",
      "Train on 5400 samples, validate on 600 samples\n",
      "Epoch 1/1000\n",
      " - 1s - loss: 9.6422 - acc: 0.3952 - val_loss: 9.4326 - val_acc: 0.4083\n",
      "\n",
      "Epoch 00001: val_acc improved from -inf to 0.40833, saving model to neural_net.h5\n",
      "Epoch 2/1000\n",
      " - 0s - loss: 9.6422 - acc: 0.3952 - val_loss: 9.4326 - val_acc: 0.4083\n",
      "\n",
      "Epoch 00002: val_acc did not improve from 0.40833\n",
      "Epoch 3/1000\n",
      " - 0s - loss: 9.6422 - acc: 0.3952 - val_loss: 9.4326 - val_acc: 0.4083\n",
      "\n",
      "Epoch 00003: val_acc did not improve from 0.40833\n",
      "Epoch 4/1000\n",
      " - 0s - loss: 9.6422 - acc: 0.3952 - val_loss: 9.4326 - val_acc: 0.4083\n",
      "\n",
      "Epoch 00004: val_acc did not improve from 0.40833\n",
      "\n",
      "Epoch 00004: ReduceLROnPlateau reducing learning rate to 0.00010000000474974513.\n",
      "Epoch 5/1000\n",
      " - 0s - loss: 9.6422 - acc: 0.3952 - val_loss: 9.4326 - val_acc: 0.4083\n",
      "\n",
      "Epoch 00005: val_acc did not improve from 0.40833\n",
      "Epoch 6/1000\n",
      " - 0s - loss: 9.6422 - acc: 0.3952 - val_loss: 9.4326 - val_acc: 0.4083\n",
      "\n",
      "Epoch 00006: val_acc did not improve from 0.40833\n",
      "Epoch 00006: early stopping\n",
      "Test f1 score : 0.5678481919083422 \n",
      "Test accuracy score : 0.3965 \n",
      "Test auroc score : 0.5 \n",
      "Test auprc score : 0.3965 \n"
     ]
    }
   ],
   "source": [
    "#neural_net(\"x_train.csv\", \"x_test.csv\", \"y_train.csv\", \"y_test.csv\")"
   ]
  },
  {
   "cell_type": "code",
   "execution_count": null,
   "metadata": {},
   "outputs": [],
   "source": []
  }
 ],
 "metadata": {
  "kernelspec": {
   "display_name": "Python 3",
   "language": "python",
   "name": "python3"
  },
  "language_info": {
   "codemirror_mode": {
    "name": "ipython",
    "version": 3
   },
   "file_extension": ".py",
   "mimetype": "text/x-python",
   "name": "python",
   "nbconvert_exporter": "python",
   "pygments_lexer": "ipython3",
   "version": "3.7.1"
  }
 },
 "nbformat": 4,
 "nbformat_minor": 2
}
