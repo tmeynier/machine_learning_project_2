{
 "cells": [
  {
   "cell_type": "code",
   "execution_count": 1,
   "metadata": {},
   "outputs": [],
   "source": [
    "from sklearn.ensemble import AdaBoostClassifier\n",
    "from sklearn.preprocessing import LabelEncoder\n",
    "from sklearn.tree import DecisionTreeClassifier\n",
    "import pandas as pd\n",
    "import numpy as np \n",
    "from sklearn.metrics import f1_score, roc_auc_score\n",
    "#, average_precision_score"
   ]
  },
  {
   "cell_type": "code",
   "execution_count": 2,
   "metadata": {},
   "outputs": [],
   "source": [
    "def adaboost(x_train_filename, x_test_filename, y_train_filename, y_test_filename):\n",
    "    # Load dataset\n",
    "    df_X_train = pd.read_csv(x_train_filename, header=None)\n",
    "    df_Y_train = pd.read_csv(y_train_filename, header=None)\n",
    "\n",
    "    df_X_test = pd.read_csv(x_test_filename, header=None)\n",
    "    df_Y_test = pd.read_csv(y_test_filename, header=None)\n",
    "\n",
    "    #X = pd.concat([df_X_train, df_X_test])\n",
    "    #Y = pd.concat([df_Y_train, df_Y_test])\n",
    "\n",
    "    X = np.array(df_X_train)\n",
    "    Y = np.array(df_Y_train).astype(np.int8)\n",
    "\n",
    "    X_test = np.array(df_X_test)\n",
    "    Y_test = np.array(df_Y_test).astype(np.int8)\n",
    "\n",
    "    AdaBoost = AdaBoostClassifier(n_estimators=400,learning_rate=1,algorithm='SAMME')\n",
    "    \n",
    "    #Fitting part\n",
    "    AdaBoost.fit(X,Y)\n",
    "\n",
    "    #Testing part\n",
    "    pred_test =AdaBoost.predict(X_test)\n",
    "\n",
    "    f1 = f1_score(Y_test, pred_test)\n",
    "\n",
    "    print(\"Test f1 score : %s \"% f1)\n",
    "\n",
    "    #acc = accuracy_score(Y_test, pred_test)\n",
    "\n",
    "    #print(\"Test accuracy score : %s \"% acc)\n",
    "\n",
    "    roc = roc_auc_score(Y_test, pred_test)\n",
    "\n",
    "    print(\"Test roc score : %s \"% roc)\n",
    "\n",
    "    #auprc = average_precision_score(Y_test, pred_test)\n",
    "\n",
    "    #print(\"Test auprc score : %s \"% auprc)\n"
   ]
  },
  {
   "cell_type": "markdown",
   "metadata": {},
   "source": [
    "This is an example of how to run the above function"
   ]
  },
  {
   "cell_type": "code",
   "execution_count": 3,
   "metadata": {},
   "outputs": [],
   "source": [
    "#adaboost(\"x_train.csv\", \"x_test.csv\", \"y_train.csv\", \"y_test.csv\")"
   ]
  },
  {
   "cell_type": "code",
   "execution_count": null,
   "metadata": {},
   "outputs": [],
   "source": []
  }
 ],
 "metadata": {
  "kernelspec": {
   "display_name": "Python 3",
   "language": "python",
   "name": "python3"
  },
  "language_info": {
   "codemirror_mode": {
    "name": "ipython",
    "version": 3
   },
   "file_extension": ".py",
   "mimetype": "text/x-python",
   "name": "python",
   "nbconvert_exporter": "python",
   "pygments_lexer": "ipython3",
   "version": "3.7.4"
  }
 },
 "nbformat": 4,
 "nbformat_minor": 2
}
