{
 "cells": [
  {
   "cell_type": "code",
   "execution_count": 1,
   "metadata": {},
   "outputs": [
    {
     "name": "stdout",
     "output_type": "stream",
     "text": [
      "Requirement already satisfied: ipynb in /home/tristan/anaconda3/envs/project_mlhc_2_task1/lib/python3.7/site-packages (0.5.1)\r\n"
     ]
    }
   ],
   "source": [
    "!pip install ipynb"
   ]
  },
  {
   "cell_type": "code",
   "execution_count": 2,
   "metadata": {},
   "outputs": [
    {
     "name": "stderr",
     "output_type": "stream",
     "text": [
      "Using TensorFlow backend.\n"
     ]
    }
   ],
   "source": [
    "import numpy as np\n",
    "import pandas as pd\n",
    "from ipynb.fs.full.nlp import nlp\n",
    "from ipynb.fs.full.visualization import visualization\n",
    "from ipynb.fs.full.generates_input import generates_input\n",
    "from ipynb.fs.full.random_forest import random_forest\n",
    "from ipynb.fs.full.lightGBM import lightGBM\n",
    "from ipynb.fs.full.xgboost import xgboost\n",
    "from ipynb.fs.full.svm import support_vector_machine\n",
    "from ipynb.fs.full.neural_network import neural_net\n",
    "from ipynb.fs.full.adaboost import adaboost\n",
    "from ipynb.fs.full.tsne import tsne"
   ]
  },
  {
   "cell_type": "code",
   "execution_count": 3,
   "metadata": {},
   "outputs": [],
   "source": [
    "# Change the path to the data sets \n",
    "df_train = pd.read_csv(\"../../input/10k_diabetes/diab_train.csv\")\n",
    "df_test = pd.read_csv(\"../../input/10k_diabetes/diab_test.csv\")"
   ]
  },
  {
   "cell_type": "markdown",
   "metadata": {},
   "source": [
    "# 1. Preprocessing"
   ]
  },
  {
   "cell_type": "markdown",
   "metadata": {},
   "source": [
    "## 1.a Preprocessing of textual data (NLP)"
   ]
  },
  {
   "cell_type": "markdown",
   "metadata": {},
   "source": [
    "The output of each NLP is saved in memory. It will be later combined with outputs of 1.b"
   ]
  },
  {
   "cell_type": "markdown",
   "metadata": {},
   "source": [
    "### Simple Bag of Words and simple vocabulary"
   ]
  },
  {
   "cell_type": "code",
   "execution_count": 4,
   "metadata": {},
   "outputs": [
    {
     "name": "stdout",
     "output_type": "stream",
     "text": [
      "Shape of the train and test datasets\n",
      "(6000, 433)\n",
      "(2000, 433)\n"
     ]
    }
   ],
   "source": [
    "is_all_text_diagnostic_combined = True\n",
    "is_complex_bag_of_words = False\n",
    "is_complex_vocabulary = False \n",
    "\n",
    "nlp(df_train, df_test, 0.01,1, \"simple_nlp_train.csv\", \"simple_nlp_test.csv\", \"simple_vocabulary.csv\", \n",
    "    is_all_text_diagnostic_combined, is_complex_vocabulary, is_complex_bag_of_words, 2, 15, 0.3, 0.7)"
   ]
  },
  {
   "cell_type": "markdown",
   "metadata": {},
   "source": [
    "### Complex Bag of Words (tfidf scores with ngrams) and complex vocabulary"
   ]
  },
  {
   "cell_type": "code",
   "execution_count": 4,
   "metadata": {},
   "outputs": [
    {
     "name": "stdout",
     "output_type": "stream",
     "text": [
      "Shape of the train and test datasets\n",
      "(6000, 394)\n",
      "(2000, 394)\n"
     ]
    }
   ],
   "source": [
    "is_all_text_diagnostic_combined = True\n",
    "is_complex_bag_of_words = True\n",
    "is_complex_vocabulary = True \n",
    "\n",
    "nlp(df_train, df_test, 0,1, \"complex_nlp_train.csv\", \"complex_nlp_test.csv\", \"complex_vocabulary.csv\", \n",
    "    is_all_text_diagnostic_combined, is_complex_vocabulary, is_complex_bag_of_words, 1, 15, 0.3, 0.7)"
   ]
  },
  {
   "cell_type": "markdown",
   "metadata": {},
   "source": [
    "## 1.b Combining (1.a) with preprocessing of non-textual data"
   ]
  },
  {
   "cell_type": "code",
   "execution_count": 5,
   "metadata": {},
   "outputs": [],
   "source": [
    "# Prepocessing and combining with simple Bag of Words and simple vocabulary of (1.a)\n",
    "generates_input(\"simple_nlp_train.csv\" , \"simple_nlp_test.csv\" , \"simple_x_train.csv\", \"simple_y_train.csv\", \n",
    "                \"simple_x_test.csv\", \"simple_y_test.csv\")"
   ]
  },
  {
   "cell_type": "code",
   "execution_count": 6,
   "metadata": {},
   "outputs": [],
   "source": [
    "# Prepocessing and combining with complex Bag of Words and complex vocabulary of (1.a)\n",
    "generates_input(\"complex_nlp_train.csv\" , \"complex_nlp_test.csv\" , \"complex_x_train.csv\", \"complex_y_train.csv\", \n",
    "                \"complex_x_test.csv\", \"complex_y_test.csv\")"
   ]
  },
  {
   "cell_type": "markdown",
   "metadata": {},
   "source": [
    "# 2. Models"
   ]
  },
  {
   "cell_type": "markdown",
   "metadata": {},
   "source": [
    "SVM"
   ]
  },
  {
   "cell_type": "code",
   "execution_count": 8,
   "metadata": {},
   "outputs": [],
   "source": [
    "# With simple Bag of Words and simple vocabulary\n",
    "support_vector_machine(\"simple_x_train.csv\", \"simple_x_test.csv\", \"simple_y_train.csv\", \"simple_y_test.csv\")\n",
    "\n",
    "# May take time to run, on the cluster we get:\n",
    "\n",
    "# F1 score: 0.591455\n",
    "# ROC: 0.568145\n",
    "# Confusion matrix\n",
    "# [[854 353]\n",
    "#  [453 340]]\n"
   ]
  },
  {
   "cell_type": "code",
   "execution_count": null,
   "metadata": {},
   "outputs": [],
   "source": [
    "# With complex Bag of Words and complex vocabulary\n",
    "support_vector_machine(\"complex_x_train.csv\", \"complex_x_test.csv\", \"complex_y_train.csv\", \"complex_y_test.csv\")\n",
    "    \n",
    "# May take time to run, on the cluster we get:\n",
    "\n",
    "# F1 score: 0.601162\n",
    "# ROC: 0.596260\n",
    "# Confusion matrix:\n",
    "# [[724 483]\n",
    "#  [323 470]]\n"
   ]
  },
  {
   "cell_type": "markdown",
   "metadata": {},
   "source": [
    "Neural Network"
   ]
  },
  {
   "cell_type": "code",
   "execution_count": 11,
   "metadata": {},
   "outputs": [
    {
     "name": "stdout",
     "output_type": "stream",
     "text": [
      "Model: \"model_1\"\n",
      "_________________________________________________________________\n",
      "Layer (type)                 Output Shape              Param #   \n",
      "=================================================================\n",
      "input_1 (InputLayer)         (None, 481)               0         \n",
      "_________________________________________________________________\n",
      "dense_1 (Dense)              (None, 50)                24100     \n",
      "_________________________________________________________________\n",
      "dense_3 (Dense)              (None, 1)                 51        \n",
      "=================================================================\n",
      "Total params: 24,151\n",
      "Trainable params: 24,151\n",
      "Non-trainable params: 0\n",
      "_________________________________________________________________\n",
      "Train on 5400 samples, validate on 600 samples\n",
      "Epoch 1/1000\n",
      " - 1s - loss: 2.7972 - acc: 0.5380 - val_loss: 0.7310 - val_acc: 0.5933\n",
      "\n",
      "Epoch 00001: val_acc improved from -inf to 0.59333, saving model to neural_net.h5\n",
      "Epoch 2/1000\n",
      " - 0s - loss: 1.5690 - acc: 0.5556 - val_loss: 0.9999 - val_acc: 0.6067\n",
      "\n",
      "Epoch 00002: val_acc improved from 0.59333 to 0.60667, saving model to neural_net.h5\n",
      "Epoch 3/1000\n",
      " - 0s - loss: 1.3259 - acc: 0.5731 - val_loss: 0.7623 - val_acc: 0.6317\n",
      "\n",
      "Epoch 00003: val_acc improved from 0.60667 to 0.63167, saving model to neural_net.h5\n",
      "Epoch 4/1000\n",
      " - 0s - loss: 1.4627 - acc: 0.5656 - val_loss: 1.0396 - val_acc: 0.6117\n",
      "\n",
      "Epoch 00004: val_acc did not improve from 0.63167\n",
      "Epoch 5/1000\n",
      " - 0s - loss: 1.2406 - acc: 0.5811 - val_loss: 0.6898 - val_acc: 0.6400\n",
      "\n",
      "Epoch 00005: val_acc improved from 0.63167 to 0.64000, saving model to neural_net.h5\n",
      "Epoch 6/1000\n",
      " - 0s - loss: 1.1812 - acc: 0.5774 - val_loss: 1.0646 - val_acc: 0.6150\n",
      "\n",
      "Epoch 00006: val_acc did not improve from 0.64000\n",
      "Epoch 7/1000\n",
      " - 0s - loss: 1.3672 - acc: 0.5791 - val_loss: 1.5474 - val_acc: 0.4700\n",
      "\n",
      "Epoch 00007: val_acc did not improve from 0.64000\n",
      "Epoch 8/1000\n",
      " - 0s - loss: 0.8861 - acc: 0.6065 - val_loss: 0.7066 - val_acc: 0.6400\n",
      "\n",
      "Epoch 00008: val_acc did not improve from 0.64000\n",
      "\n",
      "Epoch 00008: ReduceLROnPlateau reducing learning rate to 0.00010000000474974513.\n",
      "Epoch 9/1000\n",
      " - 0s - loss: 0.6364 - acc: 0.6609 - val_loss: 0.7554 - val_acc: 0.5517\n",
      "\n",
      "Epoch 00009: val_acc did not improve from 0.64000\n",
      "Epoch 10/1000\n",
      " - 0s - loss: 0.6333 - acc: 0.6680 - val_loss: 0.6643 - val_acc: 0.6350\n",
      "\n",
      "Epoch 00010: val_acc did not improve from 0.64000\n",
      "Epoch 00010: early stopping\n",
      "Test f1 score : 0.4622837370242215 \n",
      "Test roc score : 0.5788611201367391 \n"
     ]
    }
   ],
   "source": [
    "# With simple Bag of Words and simple vocabulary\n",
    "neural_net(\"simple_x_train.csv\", \"simple_x_test.csv\", \"simple_y_train.csv\", \"simple_y_test.csv\")"
   ]
  },
  {
   "cell_type": "code",
   "execution_count": 12,
   "metadata": {
    "scrolled": true
   },
   "outputs": [
    {
     "name": "stdout",
     "output_type": "stream",
     "text": [
      "Model: \"model_2\"\n",
      "_________________________________________________________________\n",
      "Layer (type)                 Output Shape              Param #   \n",
      "=================================================================\n",
      "input_2 (InputLayer)         (None, 442)               0         \n",
      "_________________________________________________________________\n",
      "dense_1 (Dense)              (None, 50)                22150     \n",
      "_________________________________________________________________\n",
      "dense_3 (Dense)              (None, 1)                 51        \n",
      "=================================================================\n",
      "Total params: 22,201\n",
      "Trainable params: 22,201\n",
      "Non-trainable params: 0\n",
      "_________________________________________________________________\n",
      "Train on 5400 samples, validate on 600 samples\n",
      "Epoch 1/1000\n",
      " - 0s - loss: 3.4086 - acc: 0.5319 - val_loss: 1.4567 - val_acc: 0.5983\n",
      "\n",
      "Epoch 00001: val_acc improved from -inf to 0.59833, saving model to neural_net.h5\n",
      "Epoch 2/1000\n",
      " - 0s - loss: 1.3754 - acc: 0.5511 - val_loss: 0.6968 - val_acc: 0.6167\n",
      "\n",
      "Epoch 00002: val_acc improved from 0.59833 to 0.61667, saving model to neural_net.h5\n",
      "Epoch 3/1000\n",
      " - 0s - loss: 1.6469 - acc: 0.5626 - val_loss: 1.4501 - val_acc: 0.4633\n",
      "\n",
      "Epoch 00003: val_acc did not improve from 0.61667\n",
      "Epoch 4/1000\n",
      " - 0s - loss: 1.2937 - acc: 0.5600 - val_loss: 1.4991 - val_acc: 0.6050\n",
      "\n",
      "Epoch 00004: val_acc did not improve from 0.61667\n",
      "Epoch 5/1000\n",
      " - 0s - loss: 1.1948 - acc: 0.5709 - val_loss: 1.3096 - val_acc: 0.4783\n",
      "\n",
      "Epoch 00005: val_acc did not improve from 0.61667\n",
      "\n",
      "Epoch 00005: ReduceLROnPlateau reducing learning rate to 0.00010000000474974513.\n",
      "Epoch 6/1000\n",
      " - 0s - loss: 0.7026 - acc: 0.6352 - val_loss: 0.7370 - val_acc: 0.5133\n",
      "\n",
      "Epoch 00006: val_acc did not improve from 0.61667\n",
      "Epoch 7/1000\n",
      " - 0s - loss: 0.6633 - acc: 0.6411 - val_loss: 0.8149 - val_acc: 0.6283\n",
      "\n",
      "Epoch 00007: val_acc improved from 0.61667 to 0.62833, saving model to neural_net.h5\n",
      "Epoch 8/1000\n",
      " - 0s - loss: 0.6674 - acc: 0.6346 - val_loss: 0.7259 - val_acc: 0.5417\n",
      "\n",
      "Epoch 00008: val_acc did not improve from 0.62833\n",
      "Epoch 9/1000\n",
      " - 0s - loss: 0.6866 - acc: 0.6289 - val_loss: 0.6871 - val_acc: 0.6433\n",
      "\n",
      "Epoch 00009: val_acc improved from 0.62833 to 0.64333, saving model to neural_net.h5\n",
      "Epoch 10/1000\n",
      " - 0s - loss: 0.6586 - acc: 0.6376 - val_loss: 0.6547 - val_acc: 0.6233\n",
      "\n",
      "Epoch 00010: val_acc did not improve from 0.64333\n",
      "Epoch 11/1000\n",
      " - 0s - loss: 0.6809 - acc: 0.6328 - val_loss: 0.6721 - val_acc: 0.5850\n",
      "\n",
      "Epoch 00011: val_acc did not improve from 0.64333\n",
      "Epoch 12/1000\n",
      " - 0s - loss: 0.6525 - acc: 0.6393 - val_loss: 0.6688 - val_acc: 0.6450\n",
      "\n",
      "Epoch 00012: val_acc improved from 0.64333 to 0.64500, saving model to neural_net.h5\n",
      "Epoch 13/1000\n",
      " - 0s - loss: 0.6608 - acc: 0.6322 - val_loss: 0.6572 - val_acc: 0.6383\n",
      "\n",
      "Epoch 00013: val_acc did not improve from 0.64500\n",
      "Epoch 14/1000\n",
      " - 0s - loss: 0.6733 - acc: 0.6317 - val_loss: 0.6983 - val_acc: 0.6300\n",
      "\n",
      "Epoch 00014: val_acc did not improve from 0.64500\n",
      "Epoch 15/1000\n",
      " - 0s - loss: 0.6723 - acc: 0.6348 - val_loss: 0.6336 - val_acc: 0.6433\n",
      "\n",
      "Epoch 00015: val_acc did not improve from 0.64500\n",
      "\n",
      "Epoch 00015: ReduceLROnPlateau reducing learning rate to 1.0000000474974514e-05.\n",
      "Epoch 16/1000\n",
      " - 0s - loss: 0.6271 - acc: 0.6587 - val_loss: 0.6354 - val_acc: 0.6433\n",
      "\n",
      "Epoch 00016: val_acc did not improve from 0.64500\n",
      "Epoch 17/1000\n",
      " - 0s - loss: 0.6255 - acc: 0.6587 - val_loss: 0.6356 - val_acc: 0.6567\n",
      "\n",
      "Epoch 00017: val_acc improved from 0.64500 to 0.65667, saving model to neural_net.h5\n",
      "Epoch 18/1000\n",
      " - 0s - loss: 0.6263 - acc: 0.6572 - val_loss: 0.6300 - val_acc: 0.6467\n",
      "\n",
      "Epoch 00018: val_acc did not improve from 0.65667\n",
      "Epoch 19/1000\n",
      " - 0s - loss: 0.6252 - acc: 0.6559 - val_loss: 0.6329 - val_acc: 0.6533\n",
      "\n",
      "Epoch 00019: val_acc did not improve from 0.65667\n",
      "Epoch 20/1000\n",
      " - 0s - loss: 0.6249 - acc: 0.6565 - val_loss: 0.6276 - val_acc: 0.6467\n",
      "\n",
      "Epoch 00020: val_acc did not improve from 0.65667\n",
      "\n",
      "Epoch 00020: ReduceLROnPlateau reducing learning rate to 1.0000000656873453e-06.\n",
      "Epoch 21/1000\n",
      " - 0s - loss: 0.6223 - acc: 0.6572 - val_loss: 0.6272 - val_acc: 0.6483\n",
      "\n",
      "Epoch 00021: val_acc did not improve from 0.65667\n",
      "Epoch 22/1000\n",
      " - 0s - loss: 0.6225 - acc: 0.6585 - val_loss: 0.6270 - val_acc: 0.6483\n",
      "\n",
      "Epoch 00022: val_acc did not improve from 0.65667\n",
      "Epoch 00022: early stopping\n",
      "Test f1 score : 0.4749303621169917 \n",
      "Test roc score : 0.5899027426184582 \n"
     ]
    }
   ],
   "source": [
    "# With complex Bag of Words and complex vocabulary\n",
    "neural_net(\"complex_x_train.csv\", \"complex_x_test.csv\", \"complex_y_train.csv\", \"complex_y_test.csv\")"
   ]
  },
  {
   "cell_type": "markdown",
   "metadata": {},
   "source": [
    "Adaboost"
   ]
  },
  {
   "cell_type": "code",
   "execution_count": 13,
   "metadata": {},
   "outputs": [
    {
     "name": "stderr",
     "output_type": "stream",
     "text": [
      "/home/tristan/anaconda3/lib/python3.7/site-packages/sklearn/utils/validation.py:760: DataConversionWarning: A column-vector y was passed when a 1d array was expected. Please change the shape of y to (n_samples, ), for example using ravel().\n",
      "  y = column_or_1d(y, warn=True)\n"
     ]
    },
    {
     "name": "stdout",
     "output_type": "stream",
     "text": [
      "Test f1 score : 0.4389465283320032 \n",
      "Test roc score : 0.5967558932707587 \n"
     ]
    }
   ],
   "source": [
    "# With simple Bag of Words and simple vocabulary\n",
    "adaboost(\"simple_x_train.csv\", \"simple_x_test.csv\", \"simple_y_train.csv\", \"simple_y_test.csv\")"
   ]
  },
  {
   "cell_type": "code",
   "execution_count": 14,
   "metadata": {},
   "outputs": [
    {
     "name": "stderr",
     "output_type": "stream",
     "text": [
      "/home/tristan/anaconda3/lib/python3.7/site-packages/sklearn/utils/validation.py:760: DataConversionWarning: A column-vector y was passed when a 1d array was expected. Please change the shape of y to (n_samples, ), for example using ravel().\n",
      "  y = column_or_1d(y, warn=True)\n"
     ]
    },
    {
     "name": "stdout",
     "output_type": "stream",
     "text": [
      "Test f1 score : 0.4492063492063493 \n",
      "Test roc score : 0.602214279669561 \n"
     ]
    }
   ],
   "source": [
    "# With complex Bag of Words and complex vocabulary\n",
    "adaboost(\"complex_x_train.csv\", \"complex_x_test.csv\", \"complex_y_train.csv\", \"complex_y_test.csv\")\n"
   ]
  },
  {
   "cell_type": "markdown",
   "metadata": {},
   "source": [
    "Xgboost"
   ]
  },
  {
   "cell_type": "code",
   "execution_count": 15,
   "metadata": {},
   "outputs": [
    {
     "name": "stderr",
     "output_type": "stream",
     "text": [
      "/home/tristan/anaconda3/lib/python3.7/site-packages/sklearn/preprocessing/_label.py:235: DataConversionWarning: A column-vector y was passed when a 1d array was expected. Please change the shape of y to (n_samples, ), for example using ravel().\n",
      "  y = column_or_1d(y, warn=True)\n",
      "/home/tristan/anaconda3/lib/python3.7/site-packages/sklearn/preprocessing/_label.py:268: DataConversionWarning: A column-vector y was passed when a 1d array was expected. Please change the shape of y to (n_samples, ), for example using ravel().\n",
      "  y = column_or_1d(y, warn=True)\n"
     ]
    },
    {
     "name": "stdout",
     "output_type": "stream",
     "text": [
      "F1 score: 0.656169\n",
      "ROC: 0.630393\n",
      "[[986 221]\n",
      " [441 352]]\n"
     ]
    },
    {
     "name": "stderr",
     "output_type": "stream",
     "text": [
      "/home/tristan/anaconda3/lib/python3.7/site-packages/sklearn/metrics/_classification.py:1515: UndefinedMetricWarning: F-score is ill-defined and being set to 0.0 in labels with no true nor predicted samples. Use `zero_division` parameter to control this behavior.\n",
      "  average, \"true nor predicted\", 'F-score is', len(true_sum)\n"
     ]
    }
   ],
   "source": [
    "# With simple Bag of Words and simple vocabulary\n",
    "xgboost(\"simple_x_train.csv\", \"simple_x_test.csv\", \"simple_y_train.csv\", \"simple_y_test.csv\")"
   ]
  },
  {
   "cell_type": "code",
   "execution_count": 16,
   "metadata": {},
   "outputs": [
    {
     "name": "stderr",
     "output_type": "stream",
     "text": [
      "/home/tristan/anaconda3/lib/python3.7/site-packages/sklearn/preprocessing/_label.py:235: DataConversionWarning: A column-vector y was passed when a 1d array was expected. Please change the shape of y to (n_samples, ), for example using ravel().\n",
      "  y = column_or_1d(y, warn=True)\n",
      "/home/tristan/anaconda3/lib/python3.7/site-packages/sklearn/preprocessing/_label.py:268: DataConversionWarning: A column-vector y was passed when a 1d array was expected. Please change the shape of y to (n_samples, ), for example using ravel().\n",
      "  y = column_or_1d(y, warn=True)\n"
     ]
    },
    {
     "name": "stdout",
     "output_type": "stream",
     "text": [
      "F1 score: 0.657308\n",
      "ROC: 0.631907\n",
      "[[979 228]\n",
      " [434 359]]\n"
     ]
    },
    {
     "name": "stderr",
     "output_type": "stream",
     "text": [
      "/home/tristan/anaconda3/lib/python3.7/site-packages/sklearn/metrics/_classification.py:1515: UndefinedMetricWarning: F-score is ill-defined and being set to 0.0 in labels with no true nor predicted samples. Use `zero_division` parameter to control this behavior.\n",
      "  average, \"true nor predicted\", 'F-score is', len(true_sum)\n"
     ]
    }
   ],
   "source": [
    "# With complex Bag of Words and complex vocabulary\n",
    "xgboost(\"complex_x_train.csv\", \"complex_x_test.csv\", \"complex_y_train.csv\", \"complex_y_test.csv\")"
   ]
  },
  {
   "cell_type": "markdown",
   "metadata": {},
   "source": [
    "LightGBM"
   ]
  },
  {
   "cell_type": "code",
   "execution_count": 17,
   "metadata": {},
   "outputs": [
    {
     "name": "stdout",
     "output_type": "stream",
     "text": [
      "F1 score: 0.630102\n",
      "ROC: 0.702387\n",
      "[[1020  187]\n",
      " [ 506  287]]\n"
     ]
    },
    {
     "name": "stderr",
     "output_type": "stream",
     "text": [
      "/home/tristan/anaconda3/lib/python3.7/site-packages/sklearn/metrics/_classification.py:1515: UndefinedMetricWarning: F-score is ill-defined and being set to 0.0 in labels with no true nor predicted samples. Use `zero_division` parameter to control this behavior.\n",
      "  average, \"true nor predicted\", 'F-score is', len(true_sum)\n"
     ]
    }
   ],
   "source": [
    "# With simple Bag of Words and simple vocabulary\n",
    "lightGBM(\"simple_x_train.csv\", \"simple_x_test.csv\", \"simple_y_train.csv\", \"simple_y_test.csv\")"
   ]
  },
  {
   "cell_type": "code",
   "execution_count": 18,
   "metadata": {},
   "outputs": [
    {
     "name": "stdout",
     "output_type": "stream",
     "text": [
      "F1 score: 0.641680\n",
      "ROC: 0.700536\n",
      "[[1020  187]\n",
      " [ 488  305]]\n"
     ]
    },
    {
     "name": "stderr",
     "output_type": "stream",
     "text": [
      "/home/tristan/anaconda3/lib/python3.7/site-packages/sklearn/metrics/_classification.py:1515: UndefinedMetricWarning: F-score is ill-defined and being set to 0.0 in labels with no true nor predicted samples. Use `zero_division` parameter to control this behavior.\n",
      "  average, \"true nor predicted\", 'F-score is', len(true_sum)\n"
     ]
    }
   ],
   "source": [
    "# With complex Bag of Words and complex vocabulary\n",
    "lightGBM(\"complex_x_train.csv\", \"complex_x_test.csv\", \"complex_y_train.csv\", \"complex_y_test.csv\")"
   ]
  },
  {
   "cell_type": "markdown",
   "metadata": {},
   "source": [
    "Random Forest"
   ]
  },
  {
   "cell_type": "code",
   "execution_count": 19,
   "metadata": {},
   "outputs": [
    {
     "name": "stderr",
     "output_type": "stream",
     "text": [
      "ipynb.fs.full.random_forest:35: DataConversionWarning: A column-vector y was passed when a 1d array was expected. Please change the shape of y to (n_samples,), for example using ravel().\n"
     ]
    },
    {
     "name": "stdout",
     "output_type": "stream",
     "text": [
      "F1 score: 0.632295\n",
      "ROC: 0.699737\n",
      "[[1062  145]\n",
      " [ 529  264]]\n"
     ]
    },
    {
     "name": "stderr",
     "output_type": "stream",
     "text": [
      "/home/tristan/anaconda3/lib/python3.7/site-packages/sklearn/metrics/_classification.py:1515: UndefinedMetricWarning: F-score is ill-defined and being set to 0.0 in labels with no true nor predicted samples. Use `zero_division` parameter to control this behavior.\n",
      "  average, \"true nor predicted\", 'F-score is', len(true_sum)\n"
     ]
    }
   ],
   "source": [
    "# With simple Bag of Words and simple vocabulary\n",
    "random_forest(\"simple_x_train.csv\", \"simple_x_test.csv\", \"simple_y_train.csv\", \"simple_y_test.csv\")"
   ]
  },
  {
   "cell_type": "code",
   "execution_count": 20,
   "metadata": {},
   "outputs": [
    {
     "name": "stderr",
     "output_type": "stream",
     "text": [
      "ipynb.fs.full.random_forest:35: DataConversionWarning: A column-vector y was passed when a 1d array was expected. Please change the shape of y to (n_samples,), for example using ravel().\n"
     ]
    },
    {
     "name": "stdout",
     "output_type": "stream",
     "text": [
      "F1 score: 0.640156\n",
      "ROC: 0.695612\n",
      "[[1044  163]\n",
      " [ 506  287]]\n"
     ]
    },
    {
     "name": "stderr",
     "output_type": "stream",
     "text": [
      "/home/tristan/anaconda3/lib/python3.7/site-packages/sklearn/metrics/_classification.py:1515: UndefinedMetricWarning: F-score is ill-defined and being set to 0.0 in labels with no true nor predicted samples. Use `zero_division` parameter to control this behavior.\n",
      "  average, \"true nor predicted\", 'F-score is', len(true_sum)\n"
     ]
    }
   ],
   "source": [
    "# With complex Bag of Words and complex vocabulary\n",
    "random_forest(\"complex_x_train.csv\", \"complex_x_test.csv\", \"complex_y_train.csv\", \"complex_y_test.csv\")"
   ]
  },
  {
   "cell_type": "markdown",
   "metadata": {},
   "source": [
    "# 3. Visualization"
   ]
  },
  {
   "cell_type": "markdown",
   "metadata": {},
   "source": [
    "## Visualization used to construct a better vocabulary"
   ]
  },
  {
   "cell_type": "markdown",
   "metadata": {},
   "source": [
    "Visualization of the simple vocabulary"
   ]
  },
  {
   "cell_type": "code",
   "execution_count": 21,
   "metadata": {},
   "outputs": [],
   "source": [
    "visualization('simple_vocabulary.csv', 'simple_nlp_train.csv', df_train, 2, 150, 0.002, 0.025, 0.010)"
   ]
  },
  {
   "cell_type": "markdown",
   "metadata": {},
   "source": [
    "Visualization of the complex vocabulary "
   ]
  },
  {
   "cell_type": "code",
   "execution_count": 20,
   "metadata": {},
   "outputs": [],
   "source": [
    "visualization('complex_vocabulary.csv', 'complex_nlp_train.csv', df_train, 2, 150, 0.002, 0.025, 0.010)"
   ]
  },
  {
   "cell_type": "markdown",
   "metadata": {},
   "source": [
    "## PL visualization"
   ]
  },
  {
   "cell_type": "markdown",
   "metadata": {},
   "source": [
    "a-Visualization of the data with simple vocabulary "
   ]
  },
  {
   "cell_type": "code",
   "execution_count": 22,
   "metadata": {},
   "outputs": [
    {
     "data": {
      "image/png": "[encoded data removed]",
      "text/plain": [
       "<Figure size 576x576 with 1 Axes>"
      ]
     },
     "metadata": {
      "needs_background": "light"
     },
     "output_type": "display_data"
    }
   ],
   "source": [
    "tsne(\"simple_x_train.csv\", \"simple_x_test.csv\", \"simple_y_train.csv\", \"simple_y_test.csv\" , 'plot_tnse_readmited_simple.png')"
   ]
  },
  {
   "cell_type": "markdown",
   "metadata": {},
   "source": [
    "b-Visualization of the data with complex vocabulary "
   ]
  },
  {
   "cell_type": "code",
   "execution_count": 22,
   "metadata": {},
   "outputs": [
    {
     "data": {
      "image/png": "[encoded data removed]",
      "text/plain": [
       "<Figure size 576x576 with 1 Axes>"
      ]
     },
     "metadata": {
      "needs_background": "light"
     },
     "output_type": "display_data"
    }
   ],
   "source": [
    "tsne(\"complex_x_train.csv\", \"complex_x_test.csv\", \"complex_y_train.csv\", \"complex_y_test.csv\" , 'plot_tnse_readmited_complex.png')"
   ]
  },
  {
   "cell_type": "code",
   "execution_count": null,
   "metadata": {},
   "outputs": [],
   "source": []
  }
 ],
 "metadata": {
  "kernelspec": {
   "display_name": "Python 3",
   "language": "python",
   "name": "python3"
  },
  "language_info": {
   "codemirror_mode": {
    "name": "ipython",
    "version": 3
   },
   "file_extension": ".py",
   "mimetype": "text/x-python",
   "name": "python",
   "nbconvert_exporter": "python",
   "pygments_lexer": "ipython3",
   "version": "3.7.4"
  }
 },
 "nbformat": 4,
 "nbformat_minor": 2
}
