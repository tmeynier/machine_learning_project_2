{
 "cells": [
  {
   "cell_type": "code",
   "execution_count": 1,
   "metadata": {},
   "outputs": [],
   "source": [
    "import pandas as pd\n",
    "import numpy as np\n",
    "from sklearn.ensemble import RandomForestClassifier\n",
    "from sklearn.metrics import roc_auc_score\n",
    "from sklearn.metrics import f1_score, balanced_accuracy_score\n",
    "from sklearn.metrics import accuracy_score\n",
    "from sklearn.metrics import precision_score\n",
    "from sklearn.metrics import recall_score\n",
    "from sklearn.metrics import confusion_matrix"
   ]
  },
  {
   "cell_type": "code",
   "execution_count": 2,
   "metadata": {},
   "outputs": [],
   "source": [
    "def random_forest(x_train_filename, x_test_filename, y_train_filename, y_test_filename):\n",
    "\n",
    "    # Load dataset\n",
    "    df_X_train = pd.read_csv(x_train_filename, header=None)\n",
    "    df_Y_train = pd.read_csv(y_train_filename, header=None)\n",
    "\n",
    "    df_X_test = pd.read_csv(x_test_filename, header=None)\n",
    "    df_Y_test = pd.read_csv(y_test_filename, header=None)\n",
    "\n",
    "    X_train = np.array(df_X_train.values)\n",
    "    Y_train = np.array(df_Y_train.values)\n",
    "\n",
    "    X_test = np.array(df_X_test.values)\n",
    "    Y_test = np.array(df_Y_test.values)\n",
    "    \n",
    "    # Create the model with some trees\n",
    "    model = RandomForestClassifier(n_estimators=490, bootstrap = True, max_features = 'sqrt')\n",
    "    \n",
    "    # Fit on training data\n",
    "    model.fit(X_train, Y_train)\n",
    "    \n",
    "    # Actual class predictions\n",
    "    rf_predictions = model.predict(X_test)\n",
    "\n",
    "    # Probabilities for each class\n",
    "    rf_probs = model.predict_proba(X_test)[:, 1]\n",
    "\n",
    "    #convert into binary values\n",
    "    y_hat = list()\n",
    "    for p in rf_probs:\n",
    "        if p >= 0.5:       \n",
    "            y_hat.append(1)\n",
    "        else:  \n",
    "            y_hat.append(0)\n",
    "            \n",
    "    # accuracy: (tp + tn) / (p + n)\n",
    "    #accuracy = accuracy_score(Y_test, y_hat)\n",
    "    #accuracy_str = 'Accuracy: %f' % accuracy \n",
    "    #print(accuracy_str)\n",
    "    # precision tp / (tp + fp)\n",
    "    #precision = precision_score(Y_test, y_hat, labels=range(5), average='weighted')\n",
    "    #precision_str = 'Precision: %f' % precision \n",
    "    #print(precision_str)\n",
    "    # recall: tp / (tp + fn)\n",
    "    #recall = recall_score(Y_test, y_hat, labels=range(5), average='weighted')\n",
    "    #recall_str = 'Recall: %f' % recall\n",
    "    #print(recall_str)\n",
    "    # f1: 2 tp / (2 tp + fp + fn)\n",
    "    f1 = f1_score(Y_test, y_hat, labels=range(5), average='weighted')\n",
    "    f1_str = 'F1 score: %f' % f1 \n",
    "    print(f1_str)\n",
    "    # Calculate roc auc\n",
    "    roc = roc_auc_score(Y_test, rf_probs)\n",
    "    roc_str = 'ROC: %f' % roc\n",
    "    print(roc_str)\n",
    "    #Confusion matrix\n",
    "    cm = confusion_matrix(Y_test, y_hat)\n",
    "    print(cm)\n",
    "    "
   ]
  }
 ],
 "metadata": {
  "kernelspec": {
   "display_name": "Python 3",
   "language": "python",
   "name": "python3"
  },
  "language_info": {
   "codemirror_mode": {
    "name": "ipython",
    "version": 3
   },
   "file_extension": ".py",
   "mimetype": "text/x-python",
   "name": "python",
   "nbconvert_exporter": "python",
   "pygments_lexer": "ipython3",
   "version": "3.7.4"
  }
 },
 "nbformat": 4,
 "nbformat_minor": 2
}
